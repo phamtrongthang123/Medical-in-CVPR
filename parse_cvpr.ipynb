{
 "cells": [
  {
   "cell_type": "code",
   "execution_count": 22,
   "metadata": {},
   "outputs": [],
   "source": [
    "# Importing BeautifulSoup class from the bs4 module\n",
    "from bs4 import BeautifulSoup\n",
    "  \n",
    "# Opening the html file\n",
    "HTMLFile = open(\"CVPR 2022 Open Access Repository.html\", \"r\")\n",
    "  \n",
    "# Reading the file\n",
    "index = HTMLFile.read()\n",
    "  \n",
    "# Creating a BeautifulSoup object and specifying the parser\n",
    "S = BeautifulSoup(index, 'lxml')\n",
    "\n",
    "all_current_papers = []\n",
    "current_paper = {'title': '', 'authors': [], 'pdf': ''}\n",
    "for TraverseTags in S.recursiveChildGenerator():\n",
    "    if TraverseTags.name:\n",
    "        if TraverseTags.name == 'dt':\n",
    "            current_paper['title'] = TraverseTags.text\n",
    "        if TraverseTags.name == 'a' and TraverseTags.text == 'pdf':\n",
    "            current_paper['pdf'] = TraverseTags.attrs['href']\n",
    "        if TraverseTags.name == 'input':\n",
    "            if 'name' in TraverseTags.attrs and  TraverseTags.attrs['name'] == 'query_author':\n",
    "                current_paper['authors'] += [TraverseTags.attrs['value']]\n",
    "    if current_paper['title'] != '' and current_paper['authors'] != [] and current_paper['pdf'] != '':\n",
    "        all_current_papers += [current_paper]\n",
    "        current_paper = {'title': '', 'authors': [], 'pdf': ''}"
   ]
  },
  {
   "cell_type": "code",
   "execution_count": 23,
   "metadata": {},
   "outputs": [
    {
     "data": {
      "text/plain": [
       "18"
      ]
     },
     "execution_count": 23,
     "metadata": {},
     "output_type": "execute_result"
    }
   ],
   "source": [
    "len(all_current_papers)"
   ]
  },
  {
   "cell_type": "code",
   "execution_count": null,
   "metadata": {},
   "outputs": [],
   "source": []
  }
 ],
 "metadata": {
  "kernelspec": {
   "display_name": "base",
   "language": "python",
   "name": "python3"
  },
  "language_info": {
   "codemirror_mode": {
    "name": "ipython",
    "version": 3
   },
   "file_extension": ".py",
   "mimetype": "text/x-python",
   "name": "python",
   "nbconvert_exporter": "python",
   "pygments_lexer": "ipython3",
   "version": "3.10.9"
  },
  "orig_nbformat": 4
 },
 "nbformat": 4,
 "nbformat_minor": 2
}

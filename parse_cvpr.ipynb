{
 "cells": [
  {
   "cell_type": "code",
   "execution_count": 22,
   "metadata": {},
   "outputs": [],
   "source": [
    "# Importing BeautifulSoup class from the bs4 module\n",
    "from bs4 import BeautifulSoup\n",
    "  \n",
    "# Opening the html file\n",
    "HTMLFile = open(\"CVPR 2022 Open Access Repository.html\", \"r\")\n",
    "  \n",
    "# Reading the file\n",
    "index = HTMLFile.read()\n",
    "  \n",
    "# Creating a BeautifulSoup object and specifying the parser\n",
    "S = BeautifulSoup(index, 'lxml')\n",
    "\n",
    "all_current_papers = []\n",
    "current_paper = {'title': '', 'authors': [], 'pdf': ''}\n",
    "for TraverseTags in S.recursiveChildGenerator():\n",
    "    if TraverseTags.name:\n",
    "        if TraverseTags.name == 'dt':\n",
    "            current_paper['title'] = TraverseTags.text\n",
    "        if TraverseTags.name == 'a' and TraverseTags.text == 'pdf':\n",
    "            current_paper['pdf'] = TraverseTags.attrs['href']\n",
    "        if TraverseTags.name == 'input':\n",
    "            if 'name' in TraverseTags.attrs and  TraverseTags.attrs['name'] == 'query_author':\n",
    "                current_paper['authors'] += [TraverseTags.attrs['value']]\n",
    "    if current_paper['title'] != '' and current_paper['authors'] != [] and current_paper['pdf'] != '':\n",
    "        all_current_papers += [current_paper]\n",
    "        current_paper = {'title': '', 'authors': [], 'pdf': ''}"
   ]
  },
  {
   "cell_type": "code",
   "execution_count": 29,
   "metadata": {},
   "outputs": [
    {
     "name": "stdout",
     "output_type": "stream",
     "text": [
      "- Chaowei Fang et. al., **Incremental Cross-View Mutual Distillation for Self-Supervised Medical CT Synthesis**. [[pdf]](https://openaccess.thecvf.com/content/CVPR2022/papers/Fang_Incremental_Cross-View_Mutual_Distillation_for_Self-Supervised_Medical_CT_Synthesis_CVPR_2022_paper.pdf) [[code]]()\n",
      "- Fengbei Liu et. al., **ACPL: Anti-Curriculum Pseudo-Labelling for Semi-Supervised Medical Image Classification**. [[pdf]](https://openaccess.thecvf.com/content/CVPR2022/papers/Liu_ACPL_Anti-Curriculum_Pseudo-Labelling_for_Semi-Supervised_Medical_Image_Classification_CVPR_2022_paper.pdf) [[code]]()\n",
      "- Ke Zhang et. al., **CycleMix: A Holistic Strategy for Medical Image Segmentation From Scribble Supervision**. [[pdf]](https://openaccess.thecvf.com/content/CVPR2022/papers/Zhang_CycleMix_A_Holistic_Strategy_for_Medical_Image_Segmentation_From_Scribble_CVPR_2022_paper.pdf) [[code]]()\n",
      "- Zhang Chen et. al., **C-CAM: Causal CAM for Weakly Supervised Semantic Segmentation on Medical Image**. [[pdf]](https://openaccess.thecvf.com/content/CVPR2022/papers/Chen_C-CAM_Causal_CAM_for_Weakly_Supervised_Semantic_Segmentation_on_Medical_CVPR_2022_paper.pdf) [[code]]()\n",
      "- Ziqi Zhou et. al., **Generalizable Cross-Modality Medical Image Segmentation via Style Augmentation and Dual Normalization**. [[pdf]](https://openaccess.thecvf.com/content/CVPR2022/papers/Zhou_Generalizable_Cross-Modality_Medical_Image_Segmentation_via_Style_Augmentation_and_Dual_CVPR_2022_paper.pdf) [[code]]()\n",
      "- Christos Matsoukas et. al., **What Makes Transfer Learning Work for Medical Images: Feature Reuse & Other Factors**. [[pdf]](https://openaccess.thecvf.com/content/CVPR2022/papers/Matsoukas_What_Makes_Transfer_Learning_Work_for_Medical_Images_Feature_Reuse_CVPR_2022_paper.pdf) [[code]]()\n",
      "- Quan Quan et. al., **Which Images To Label for Few-Shot Medical Landmark Detection?**. [[pdf]](https://openaccess.thecvf.com/content/CVPR2022/papers/Quan_Which_Images_To_Label_for_Few-Shot_Medical_Landmark_Detection_CVPR_2022_paper.pdf) [[code]]()\n",
      "- Cheng Peng et. al., **HyperSegNAS: Bridging One-Shot Neural Architecture Search With 3D Medical Image Segmentation Using HyperNet**. [[pdf]](https://openaccess.thecvf.com/content/CVPR2022/papers/Peng_HyperSegNAS_Bridging_One-Shot_Neural_Architecture_Search_With_3D_Medical_Image_CVPR_2022_paper.pdf) [[code]]()\n",
      "- Wenqiao Zhang et. al., **BoostMIS: Boosting Medical Image Semi-Supervised Learning With Adaptive Pseudo Labeling and Informative Active Annotation**. [[pdf]](https://openaccess.thecvf.com/content/CVPR2022/papers/Zhang_BoostMIS_Boosting_Medical_Image_Semi-Supervised_Learning_With_Adaptive_Pseudo_Labeling_CVPR_2022_paper.pdf) [[code]]()\n",
      "- Tony C. W. Mok et. al., **Affine Medical Image Registration With Coarse-To-Fine Vision Transformer**. [[pdf]](https://openaccess.thecvf.com/content/CVPR2022/papers/Mok_Affine_Medical_Image_Registration_With_Coarse-To-Fine_Vision_Transformer_CVPR_2022_paper.pdf) [[code]]()\n",
      "- Jinseong Jang et. al., **M3T: Three-Dimensional Medical Image Classifier Using Multi-Plane and Multi-Slice Transformer**. [[pdf]](https://openaccess.thecvf.com/content/CVPR2022/papers/Jang_M3T_Three-Dimensional_Medical_Image_Classifier_Using_Multi-Plane_and_Multi-Slice_Transformer_CVPR_2022_paper.pdf) [[code]]()\n",
      "- Jiancheng Yang et. al., **ImplicitAtlas: Learning Deformable Shape Templates in Medical Imaging**. [[pdf]](https://openaccess.thecvf.com/content/CVPR2022/papers/Yang_ImplicitAtlas_Learning_Deformable_Shape_Templates_in_Medical_Imaging_CVPR_2022_paper.pdf) [[code]]()\n",
      "- Yucheng Tang et. al., **Self-Supervised Pre-Training of Swin Transformers for 3D Medical Image Analysis**. [[pdf]](https://openaccess.thecvf.com/content/CVPR2022/papers/Tang_Self-Supervised_Pre-Training_of_Swin_Transformers_for_3D_Medical_Image_Analysis_CVPR_2022_paper.pdf) [[code]]()\n",
      "- Aiham Taleb et. al., **ContIG: Self-Supervised Multimodal Contrastive Learning for Medical Imaging With Genetics**. [[pdf]](https://openaccess.thecvf.com/content/CVPR2022/papers/Taleb_ContIG_Self-Supervised_Multimodal_Contrastive_Learning_for_Medical_Imaging_With_Genetics_CVPR_2022_paper.pdf) [[code]]()\n",
      "- Fatemeh Haghighi et. al., **DiRA: Discriminative, Restorative, and Adversarial Learning for Self-Supervised Medical Image Analysis**. [[pdf]](https://openaccess.thecvf.com/content/CVPR2022/papers/Haghighi_DiRA_Discriminative_Restorative_and_Adversarial_Learning_for_Self-Supervised_Medical_Image_CVPR_2022_paper.pdf) [[code]]()\n",
      "- Jianfeng Wang et. al., **Rethinking Bayesian Deep Learning Methods for Semi-Supervised Volumetric Medical Image Segmentation**. [[pdf]](https://openaccess.thecvf.com/content/CVPR2022/papers/Wang_Rethinking_Bayesian_Deep_Learning_Methods_for_Semi-Supervised_Volumetric_Medical_Image_CVPR_2022_paper.pdf) [[code]]()\n",
      "- Yu Feng et. al., **FIBA: Frequency-Injection Based Backdoor Attack in Medical Image Analysis**. [[pdf]](https://openaccess.thecvf.com/content/CVPR2022/papers/Feng_FIBA_Frequency-Injection_Based_Backdoor_Attack_in_Medical_Image_Analysis_CVPR_2022_paper.pdf) [[code]]()\n",
      "- An Xu et. al., **Closing the Generalization Gap of Cross-Silo Federated Medical Image Segmentation**. [[pdf]](https://openaccess.thecvf.com/content/CVPR2022/papers/Xu_Closing_the_Generalization_Gap_of_Cross-Silo_Federated_Medical_Image_Segmentation_CVPR_2022_paper.pdf) [[code]]()\n"
     ]
    }
   ],
   "source": [
    "for paper in all_current_papers:\n",
    "    print(f'- {paper[\"authors\"][0]} et. al., **{paper[\"title\"]}**. [[pdf]]({paper[\"pdf\"]}) [[code]]()')"
   ]
  },
  {
   "cell_type": "code",
   "execution_count": 37,
   "metadata": {},
   "outputs": [],
   "source": [
    "with open('copy_by_hand_report.txt', 'r') as f:\n",
    "    copy_by_hand = f.readlines()\n",
    "\n",
    "current_paper = {'title': '', 'authors': []}\n",
    "all_current_papers = []\n",
    "for i, line in enumerate(copy_by_hand):\n",
    "    if i%2 ==0: \n",
    "        line_s = line.strip()\n",
    "        title = line_s.split(' Poster')[0]\n",
    "        current_paper['title'] = title\n",
    "    else:\n",
    "        current_paper['authors'] = line.strip().split(' · ')\n",
    "    if current_paper['title'] != '' and current_paper['authors'] != []:\n",
    "        all_current_papers += [current_paper]\n",
    "        current_paper = {'title': '', 'authors': []}\n",
    "\n",
    "        \n",
    "\n"
   ]
  },
  {
   "cell_type": "code",
   "execution_count": 38,
   "metadata": {},
   "outputs": [
    {
     "name": "stdout",
     "output_type": "stream",
     "text": [
      "- Mingjie Li et. al., **Dynamic Graph Enhanced Contrastive Learning for Chest X-ray Report Generation**. [[pdf]]()\n",
      "- Zhongzhen Huang et. al., **KiUT: Knowledge-injected U-Transformer for Radiology Report Generation**. [[pdf]]()\n",
      "- Zhanyu Wang et. al., **METransformer: Radiology Report Generation by Transformer with Multiple Learnable Expert Tokens**. [[pdf]]()\n",
      "- Tim Tanida et. al., **Interactive and Explainable Region-guided Radiology Report Generation**. [[pdf]]()\n"
     ]
    }
   ],
   "source": [
    "for paper in all_current_papers:\n",
    "    print(f'- {paper[\"authors\"][0]} et. al., **{paper[\"title\"]}**. [[pdf]]()')"
   ]
  },
  {
   "cell_type": "code",
   "execution_count": null,
   "metadata": {},
   "outputs": [],
   "source": []
  }
 ],
 "metadata": {
  "kernelspec": {
   "display_name": "base",
   "language": "python",
   "name": "python3"
  },
  "language_info": {
   "codemirror_mode": {
    "name": "ipython",
    "version": 3
   },
   "file_extension": ".py",
   "mimetype": "text/x-python",
   "name": "python",
   "nbconvert_exporter": "python",
   "pygments_lexer": "ipython3",
   "version": "3.10.9"
  },
  "orig_nbformat": 4
 },
 "nbformat": 4,
 "nbformat_minor": 2
}
